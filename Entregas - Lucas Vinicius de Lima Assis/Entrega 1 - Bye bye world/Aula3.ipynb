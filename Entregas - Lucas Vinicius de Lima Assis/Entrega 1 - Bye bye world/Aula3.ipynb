{
  "cells": [
    {
      "cell_type": "markdown",
      "metadata": {
        "id": "view-in-github",
        "colab_type": "text"
      },
      "source": [
        "<a href=\"https://colab.research.google.com/github/Sevenings/lia1-2023-1/blob/main/Aula3.ipynb\" target=\"_parent\"><img src=\"https://colab.research.google.com/assets/colab-badge.svg\" alt=\"Open In Colab\"/></a>"
      ]
    },
    {
      "cell_type": "markdown",
      "id": "b09a4eca",
      "metadata": {
        "id": "b09a4eca"
      },
      "source": [
        "<hr style=\"height:10px\"> \n",
        " \n",
        "<div class='container2'>\n",
        "\t<div style='padding: 0 7em 2em 12em;'>\n",
        "        <h1>Laboratório de Inovação e Automação 1 (LIA 1)</h1>\n",
        "        <div style=\"font-size:12pt;float:left;\"> 2023/1 | 46M34 | Sala 200 CAE</div><br><br>\n",
        "        <div style=\"font-size:12pt;float:left;\"><b>Projetos de Inteligência Artificial - Lucas Vinicius de Lima Assis</b></div>\n",
        "    </div>\n",
        "</div>\n",
        "\n",
        "\n",
        " <hr style=\"height:5px\"> \n",
        "\n",
        "    \n",
        "<h2>Introdução ao Ambiente de Projetos</h2>\n",
        "\n",
        "Notebook desenvolvido por: <a href=\"http://lattes.cnpq.br/1346824250595330\">Prof. Dr. Adriano C. Santana</a>\n",
        "\n",
        " <hr style=\"height:2px\"> "
      ]
    },
    {
      "cell_type": "code",
      "execution_count": 1,
      "id": "ca0c6f0d",
      "metadata": {
        "colab": {
          "base_uri": "https://localhost:8080/"
        },
        "id": "ca0c6f0d",
        "outputId": "70123f52-ebaa-43cd-ece9-cf328289b170"
      },
      "outputs": [
        {
          "output_type": "stream",
          "name": "stdout",
          "text": [
            "A versão do python no projeto é 3.10.11 :^P\n"
          ]
        }
      ],
      "source": [
        "from platform import python_version\n",
        "print(f'A versão do python no projeto é {python_version()} :^P')"
      ]
    },
    {
      "cell_type": "code",
      "execution_count": 2,
      "id": "088b2654",
      "metadata": {
        "colab": {
          "base_uri": "https://localhost:8080/"
        },
        "id": "088b2654",
        "outputId": "e83c3925-b9fd-4a6d-c71d-2a91be9a4d37"
      },
      "outputs": [
        {
          "output_type": "stream",
          "name": "stdout",
          "text": [
            "Bye bye World!\n"
          ]
        }
      ],
      "source": [
        "# Verificar se o Pyrhon está funcionando\n",
        "print('Bye bye World!')"
      ]
    },
    {
      "cell_type": "markdown",
      "id": "5178c64d",
      "metadata": {
        "id": "5178c64d"
      },
      "source": [
        "# Operadores aritiméticos"
      ]
    },
    {
      "cell_type": "code",
      "execution_count": null,
      "id": "fe9b1f66",
      "metadata": {
        "id": "fe9b1f66",
        "outputId": "6eee3833-e7cb-41ec-aff1-3cc533a4e441"
      },
      "outputs": [
        {
          "data": {
            "text/plain": [
              "2"
            ]
          },
          "execution_count": 13,
          "metadata": {},
          "output_type": "execute_result"
        }
      ],
      "source": [
        "# Adição\n",
        "1 + 1"
      ]
    },
    {
      "cell_type": "code",
      "execution_count": null,
      "id": "97bc1e9f",
      "metadata": {
        "id": "97bc1e9f",
        "outputId": "c624d457-1919-4d84-b624-a6116a6d7dcd"
      },
      "outputs": [
        {
          "data": {
            "text/plain": [
              "1"
            ]
          },
          "execution_count": 14,
          "metadata": {},
          "output_type": "execute_result"
        }
      ],
      "source": [
        "# Sudtração\n",
        "2 - 1"
      ]
    },
    {
      "cell_type": "code",
      "execution_count": null,
      "id": "ccdfa55c",
      "metadata": {
        "id": "ccdfa55c",
        "outputId": "2208683c-27e5-490b-b116-b0b13120a748"
      },
      "outputs": [
        {
          "data": {
            "text/plain": [
              "4"
            ]
          },
          "execution_count": 15,
          "metadata": {},
          "output_type": "execute_result"
        }
      ],
      "source": [
        "# Multiplicação\n",
        "2 * 2"
      ]
    },
    {
      "cell_type": "code",
      "execution_count": null,
      "id": "af4a8927",
      "metadata": {
        "id": "af4a8927",
        "outputId": "aee1215a-749a-44b6-8bd5-bf9a4e22b72e"
      },
      "outputs": [
        {
          "data": {
            "text/plain": [
              "2.0"
            ]
          },
          "execution_count": 17,
          "metadata": {},
          "output_type": "execute_result"
        }
      ],
      "source": [
        "# Divisão\n",
        "8 / 4"
      ]
    },
    {
      "cell_type": "code",
      "execution_count": null,
      "id": "8c3b23dd",
      "metadata": {
        "id": "8c3b23dd",
        "outputId": "0f200d11-adb0-426e-ef80-81e50cbdd681"
      },
      "outputs": [
        {
          "data": {
            "text/plain": [
              "15129"
            ]
          },
          "execution_count": 19,
          "metadata": {},
          "output_type": "execute_result"
        }
      ],
      "source": [
        "# Potenciação\n",
        "123 ** 2"
      ]
    },
    {
      "cell_type": "code",
      "execution_count": null,
      "id": "3349d9d8",
      "metadata": {
        "id": "3349d9d8",
        "outputId": "d1ebe36d-c38d-409b-df73-b90688bd03ba"
      },
      "outputs": [
        {
          "data": {
            "text/plain": [
              "1"
            ]
          },
          "execution_count": 21,
          "metadata": {},
          "output_type": "execute_result"
        }
      ],
      "source": [
        "# Módulo\n",
        "10 % 3"
      ]
    },
    {
      "cell_type": "markdown",
      "id": "494c35f1",
      "metadata": {
        "id": "494c35f1"
      },
      "source": [
        "# Tipos de Dados (type)"
      ]
    },
    {
      "cell_type": "code",
      "execution_count": null,
      "id": "e6ebae49",
      "metadata": {
        "id": "e6ebae49",
        "outputId": "6fa57a73-fc03-4103-dfb5-8599cf295245"
      },
      "outputs": [
        {
          "data": {
            "text/plain": [
              "int"
            ]
          },
          "execution_count": 22,
          "metadata": {},
          "output_type": "execute_result"
        }
      ],
      "source": [
        "#  Tipo de 5? -> int\n",
        "type(5)"
      ]
    },
    {
      "cell_type": "code",
      "execution_count": null,
      "id": "b0bd6ef5",
      "metadata": {
        "id": "b0bd6ef5",
        "outputId": "009d2e9e-26c1-42a6-f228-1f90c1a58de7"
      },
      "outputs": [
        {
          "data": {
            "text/plain": [
              "float"
            ]
          },
          "execution_count": 23,
          "metadata": {},
          "output_type": "execute_result"
        }
      ],
      "source": [
        "# Tipo de 5.0 -> float\n",
        "type(5.0)"
      ]
    },
    {
      "cell_type": "code",
      "execution_count": null,
      "id": "8a07c41a",
      "metadata": {
        "id": "8a07c41a",
        "outputId": "a95098bf-ebfb-4746-ce67-de6685123e9a"
      },
      "outputs": [
        {
          "name": "stdout",
          "output_type": "stream",
          "text": [
            "O tipo de a é:\n",
            "O tipo de b é:\n"
          ]
        },
        {
          "data": {
            "text/plain": [
              "str"
            ]
          },
          "execution_count": 26,
          "metadata": {},
          "output_type": "execute_result"
        }
      ],
      "source": [
        "# Tipo de '5' ou 'Estudando python' -> String\n",
        "a = '5'\n",
        "b = 'Estudando Python'\n",
        "print(f'O tipo de a é:')\n",
        "type(a)\n",
        "print(f'O tipo de b é:')\n",
        "type(b)"
      ]
    },
    {
      "cell_type": "markdown",
      "id": "b68f9a7d",
      "metadata": {
        "id": "b68f9a7d"
      },
      "source": [
        "# Condicional if"
      ]
    },
    {
      "cell_type": "code",
      "execution_count": null,
      "id": "44081788",
      "metadata": {
        "id": "44081788",
        "outputId": "309bb44a-5030-453d-a731-a769cc527e07"
      },
      "outputs": [
        {
          "name": "stdout",
          "output_type": "stream",
          "text": [
            "verdadeiro!\n"
          ]
        }
      ],
      "source": [
        "# Condicional if\n",
        "if 5 > 2:\n",
        "    print(\"verdadeiro!\")"
      ]
    },
    {
      "cell_type": "code",
      "execution_count": null,
      "id": "ee96f804",
      "metadata": {
        "id": "ee96f804",
        "outputId": "a68ae1a4-e1ca-4c78-bdf1-7b002a222963"
      },
      "outputs": [
        {
          "name": "stdout",
          "output_type": "stream",
          "text": [
            "falso!\n"
          ]
        }
      ],
      "source": [
        "# Condicional if...else\n",
        "if 5 < 2:\n",
        "    print('verdadeiro')\n",
        "else:\n",
        "    print('falso!')"
      ]
    },
    {
      "cell_type": "code",
      "execution_count": null,
      "id": "11998c12",
      "metadata": {
        "id": "11998c12",
        "outputId": "37d24641-2b0a-4a53-b2ab-e8b1f3cb2cf2"
      },
      "outputs": [
        {
          "name": "stdout",
          "output_type": "stream",
          "text": [
            "Aoba! Sextou!\n"
          ]
        }
      ],
      "source": [
        "# if else com variavel\n",
        "dia = 'Sexta-feira'\n",
        "# dia = 'Segunda-feira'\n",
        "# dia = 'Quarta-feira'\n",
        "if dia == 'Segunda-feira':\n",
        "    print('oh canseira...')\n",
        "elif dia == 'Sexta-feira':\n",
        "    print('Aoba! Sextou!')\n",
        "else:\n",
        "    print('é dia.')\n"
      ]
    },
    {
      "cell_type": "markdown",
      "id": "3431b2b9",
      "metadata": {
        "id": "3431b2b9"
      },
      "source": [
        "# Manipulando Arquivos\n",
        "### Lendo arquivos .txt"
      ]
    },
    {
      "cell_type": "code",
      "source": [
        "from google.colab import drive\n",
        "drive.mount('/content/drive')"
      ],
      "metadata": {
        "colab": {
          "base_uri": "https://localhost:8080/"
        },
        "id": "xMDqgEIWoH_q",
        "outputId": "bb0ab0ed-6b5d-4bb0-bdd3-7d26881fc0d2"
      },
      "id": "xMDqgEIWoH_q",
      "execution_count": 4,
      "outputs": [
        {
          "output_type": "stream",
          "name": "stdout",
          "text": [
            "Mounted at /content/drive\n"
          ]
        }
      ]
    },
    {
      "cell_type": "code",
      "execution_count": 9,
      "id": "35487111",
      "metadata": {
        "colab": {
          "base_uri": "https://localhost:8080/"
        },
        "id": "35487111",
        "outputId": "71e66baf-1962-465c-842a-cdb5969c9ee2"
      },
      "outputs": [
        {
          "output_type": "stream",
          "name": "stdout",
          "text": [
            "Lorem ipsum\n",
            "\n",
            "In publishing and graphic design, Lorem ipsum is a placeholder text commonly used to demonstrate the visual form of a document or a typeface without relying on meaningful content. Lorem ipsum may be used as a placeholder before final copy is available. It is also used to temporarily replace text in a process called greeking, which allows designers to consider the form of a webpage or publication, without the meaning of the text influencing the design.\n"
          ]
        }
      ],
      "source": [
        "# Abrindo o arquivo para leitura\n",
        "a1 = open('/content/drive/MyDrive/ColabNotebooks/ipsum.txt')\n",
        "print(a1.read())"
      ]
    },
    {
      "cell_type": "code",
      "execution_count": 17,
      "id": "74bda35f",
      "metadata": {
        "colab": {
          "base_uri": "https://localhost:8080/"
        },
        "id": "74bda35f",
        "outputId": "06d8f6e8-0aee-479d-929c-ea406416d044"
      },
      "outputs": [
        {
          "output_type": "execute_result",
          "data": {
            "text/plain": [
              "28"
            ]
          },
          "metadata": {},
          "execution_count": 17
        }
      ],
      "source": [
        "# Gravando no arquivo\n",
        "a2 = open('/content/drive/MyDrive/ColabNotebooks/arquivoArtificialSegundo.txt', 'w') # Abrir o arquivo, se não existir é criado um\n",
        "\n",
        "a2.write('''SIMPLES E RÁPIDO: FULMINANTE''')   # Escreve a primeira estrofe da letra de Red Like Roses no arquivo\n",
        "\n",
        "\n"
      ]
    },
    {
      "cell_type": "code",
      "execution_count": 19,
      "id": "a5112b9a",
      "metadata": {
        "colab": {
          "base_uri": "https://localhost:8080/"
        },
        "id": "a5112b9a",
        "outputId": "8e7f0ded-01ff-4a95-b8b9-5891f48a145c"
      },
      "outputs": [
        {
          "output_type": "stream",
          "name": "stdout",
          "text": [
            "SIMPLES E RÁPIDO: FULMINANTE\n"
          ]
        }
      ],
      "source": [
        "# Testando se o arquivo foi criado e escrito\n",
        "a2 = open('/content/drive/MyDrive/ColabNotebooks/arquivoArtificialSegundo.txt')\n",
        "print(a2.read())"
      ]
    },
    {
      "cell_type": "code",
      "execution_count": null,
      "id": "26e3ba25",
      "metadata": {
        "id": "26e3ba25"
      },
      "outputs": [],
      "source": []
    }
  ],
  "metadata": {
    "kernelspec": {
      "display_name": "Python 3 (ipykernel)",
      "language": "python",
      "name": "python3"
    },
    "language_info": {
      "codemirror_mode": {
        "name": "ipython",
        "version": 3
      },
      "file_extension": ".py",
      "mimetype": "text/x-python",
      "name": "python",
      "nbconvert_exporter": "python",
      "pygments_lexer": "ipython3",
      "version": "3.10.9"
    },
    "colab": {
      "provenance": [],
      "include_colab_link": true
    },
    "gpuClass": "standard"
  },
  "nbformat": 4,
  "nbformat_minor": 5
}